{
 "cells": [
  {
   "cell_type": "markdown",
   "metadata": {},
   "source": [
    "**Libraries**"
   ]
  },
  {
   "cell_type": "code",
   "execution_count": null,
   "metadata": {},
   "outputs": [],
   "source": [
    "import requests\n",
    "from bs4 import BeautifulSoup\n",
    "import pandas as pd\n",
    "import random"
   ]
  },
  {
   "cell_type": "markdown",
   "metadata": {},
   "source": [
    "***Board Games***"
   ]
  },
  {
   "cell_type": "markdown",
   "metadata": {},
   "source": [
    "Return the main category on the game based on the input of the user :"
   ]
  },
  {
   "cell_type": "code",
   "execution_count": null,
   "metadata": {},
   "outputs": [],
   "source": [
    "def main_category(): \n",
    "    \n",
    "    url_categories = 'https://boardgamegeek.com/browse/boardgamecategory'\n",
    "    soup_categories = BeautifulSoup(requests.get(url_categories).content)\n",
    "    \n",
    "    categories = soup_categories.find('table').find_all('a')\n",
    "    list_categories = [cat.get_text() for cat in categories]\n",
    "    \n",
    "    print('List of categories available: ')\n",
    "    print(list_categories)\n",
    "    \n",
    "    main_category = input('Which category do you want?')\n",
    "    main_category = word_capitalize_all (main_category)\n",
    "    \n",
    "    if main_category not in list_categories:\n",
    "        return 'The input category might seem to not exist. Maybe you have miss typed it? Try again.'\n",
    "    else :\n",
    "        return main_category"
   ]
  },
  {
   "cell_type": "markdown",
   "metadata": {},
   "source": [
    "Return soup of the main category and the id og the games that belong to this main category :"
   ]
  },
  {
   "cell_type": "code",
   "execution_count": null,
   "metadata": {},
   "outputs": [],
   "source": [
    "def soup(main_category):\n",
    "    \n",
    "    main_category = main_category.lower()\n",
    "    \n",
    "    url_board_game1 = 'https://boardgamegeek.com/xmlapi/search?search=' + main_category\n",
    "    response_board_game1 = requests.get(url_board_game1)\n",
    "    soup_board_game1 = BeautifulSoup(response_board_game1.content)\n",
    "    \n",
    "    if response_board_game1.status_code == 200:\n",
    "        games = soup_board_game1.find_all('boardgame')\n",
    "        list_game_id = [game.get('objectid') for game in games]\n",
    "            \n",
    "        if len(list_game_id) == 0:\n",
    "            return 'It seems that no game are registered under this category'\n",
    "        \n",
    "        else :\n",
    "            url_board_game2 = 'https://boardgamegeek.com/xmlapi/boardgame/'\n",
    "            for id in list_game_id:\n",
    "                url_board_game2 = url_board_game2 + id + ','\n",
    "            url_board_game2 = url_board_game2.rstrip(',')\n",
    "            url_board_game2 = url_board_game2 + '/?stats=1'\n",
    "            \n",
    "            response_board_game2 = requests.get(url_board_game2)\n",
    "            soup_board_game2 = BeautifulSoup(response_board_game2.content)\n",
    "            \n",
    "            return soup_board_game2, list_game_id\n",
    "    else :\n",
    "        return 'A problem occured. Try again.'"
   ]
  },
  {
   "cell_type": "markdown",
   "metadata": {},
   "source": [
    "Return a dataframe with all the games and features we want from this main category :"
   ]
  },
  {
   "cell_type": "code",
   "execution_count": null,
   "metadata": {},
   "outputs": [],
   "source": [
    "\n",
    "def board_game_category (soup, game_id):\n",
    "       \n",
    "    all_game = soup.find_all('boardgame')\n",
    "        \n",
    "    my_features = {\n",
    "        'game_id' : game_id,\n",
    "        'game_name' : [game.find('name').get_text() for game in all_game],\n",
    "        'game_year_released' : [int(game.find('yearpublished').get_text()) for game in all_game],\n",
    "        'game_categories' : [[cat.text.strip() for cat in game.find_all('boardgamecategory')] for game in all_game],\n",
    "        'game_min_player' : [int(game.find('minplayers').get_text()) for game in all_game],\n",
    "        'game_max_player' : [int(game.find('maxplayers').get_text()) for game in all_game],\n",
    "        'game_min_time' : [int(game.find('minplaytime').get_text()) for game in all_game],\n",
    "        'game_max_time' : [int(game.find('maxplaytime').get_text()) for game in all_game],\n",
    "        'game_age' : [int(game.find('age').get_text()) for game in all_game],\n",
    "        'game_average' : [float(game.find('average').get_text()) for game in all_game],\n",
    "        'game_gameplay' : [[play.text.strip() for play in game.find_all('boardgamemechanic')] for game in all_game],\n",
    "        'game_description' : [game.find('description').get_text() for game in all_game]\n",
    "    }\n",
    "    \n",
    "    df = pd.DataFrame(my_features)\n",
    "\n",
    "    return df"
   ]
  },
  {
   "cell_type": "markdown",
   "metadata": {},
   "source": [
    "Function where the player will have different input (criteria) that will give him a list of games at the end:"
   ]
  },
  {
   "cell_type": "code",
   "execution_count": null,
   "metadata": {},
   "outputs": [],
   "source": [
    "def game_selector(game_dataset):\n",
    "    \n",
    "    print('Dear player, in order to get a list as short as possible, you are kindly ask to file as much information as possible. Please also note that the first 3 questions are mandatory.')\n",
    "    \n",
    "    players = int(input('How many players are you?'))\n",
    "    game_dataset_1 = game_selector_players(game_dataset, players)\n",
    "    \n",
    "    age = int(input('How old are you?'))\n",
    "    game_dataset_2 = game_selector_age(game_dataset_1, age)\n",
    "    \n",
    "    time = int(input('What it your limit of time?'))\n",
    "    game_dataset_3 = game_selector_time(game_dataset_2, time).reset_index()\n",
    "    \n",
    "    if input('Do you want to add a second category? Yes or No').lower() == 'yes':\n",
    "        print('You can see the most popular second category :')\n",
    "        print(pd.DataFrame(list_second_category(game_dataset_3)))\n",
    "        second_category = input('Which secondary category do you want? : ')\n",
    "        game_dataset_4 = game_selector_second_category(game_dataset_3,second_category)\n",
    "    else :\n",
    "        game_dataset_4 = game_dataset_3\n",
    "        \n",
    "    if input('Do you want to add a minimum score? Yes or No').lower() == 'yes':\n",
    "        average = input('What minimum score do you want?')\n",
    "        game_dataset_5 = game_selector_average(game_dataset_4, float(average))\n",
    "    else:\n",
    "        game_dataset_5 = game_dataset_4\n",
    "        \n",
    "    if input('Do you want to add a year of publication? Yes or No').lower() == 'yes':\n",
    "        year = input('What year do you want?')\n",
    "        game_dataset_6 = game_selector_year(game_dataset_5, int(year))\n",
    "    else:\n",
    "        game_dataset_6 = game_dataset_5\n",
    "        \n",
    "    #if dataset empty, print('your are too strict with your inputs) or create a function that test if data set empty ?\n",
    "    return game_dataset_6"
   ]
  },
  {
   "cell_type": "markdown",
   "metadata": {},
   "source": [
    "Functions used for the function game_selector:"
   ]
  },
  {
   "cell_type": "code",
   "execution_count": null,
   "metadata": {},
   "outputs": [],
   "source": [
    "def game_selector_players(df, number_players):  \n",
    "    df_filtered = df[(df.game_min_player < number_players) & (df.game_max_player > number_players)]\n",
    "    return df_filtered"
   ]
  },
  {
   "cell_type": "code",
   "execution_count": null,
   "metadata": {},
   "outputs": [],
   "source": [
    "def game_selector_age(df, age_players):\n",
    "    if age_players <= 18 :\n",
    "        df_filtered = df[(df['game_age'] <= age_players)]\n",
    "    else :\n",
    "        df_filtered = df\n",
    "    return df_filtered"
   ]
  },
  {
   "cell_type": "code",
   "execution_count": null,
   "metadata": {},
   "outputs": [],
   "source": [
    "def game_selector_time(df, time_play):\n",
    "    df_filtered = df[(df.game_max_time <= time_play)]\n",
    "    return df_filtered"
   ]
  },
  {
   "cell_type": "code",
   "execution_count": null,
   "metadata": {},
   "outputs": [],
   "source": [
    "def list_second_category(df):\n",
    "    \n",
    "    second_categoy_list_all = []\n",
    "    second_category_cleaned = []\n",
    "    \n",
    "    elements = list(df.loc[:, 'game_categories'])\n",
    "    for element in elements :\n",
    "        for e in element:\n",
    "            second_categoy_list_all.append(e)\n",
    "        \n",
    "    for category in second_categoy_list_all:\n",
    "        if category not in second_category_cleaned:\n",
    "            second_category_cleaned.append(category)\n",
    "\n",
    "    return second_category_cleaned"
   ]
  },
  {
   "cell_type": "code",
   "execution_count": null,
   "metadata": {},
   "outputs": [],
   "source": [
    "def game_selector_second_category(df, category):\n",
    "    \n",
    "    category_clean = word_capitalize_all (category)\n",
    "    \n",
    "    row_to_drop = []\n",
    "    \n",
    "    for i, row in enumerate(df.index):\n",
    "        if not category_clean in df['game_categories'].iloc[i]:\n",
    "            row_to_drop.append(i)\n",
    "            \n",
    "    df = df.drop(row_to_drop)\n",
    "    \n",
    "    return df"
   ]
  },
  {
   "cell_type": "code",
   "execution_count": null,
   "metadata": {},
   "outputs": [],
   "source": [
    "def game_selector_average(df, average):\n",
    "    df_filtered = df[(df.game_average > average)]\n",
    "    return df_filtered"
   ]
  },
  {
   "cell_type": "code",
   "execution_count": null,
   "metadata": {},
   "outputs": [],
   "source": [
    "def game_selector_year(df, year):\n",
    "    df_filtered = df[(df.game_year_released > year-10) & (df.game_year_released < year+10)]\n",
    "    return df_filtered"
   ]
  },
  {
   "cell_type": "markdown",
   "metadata": {},
   "source": [
    "Function that is used at least two times and usefull to avoid repetition and make functions more clear:"
   ]
  },
  {
   "cell_type": "code",
   "execution_count": null,
   "metadata": {},
   "outputs": [],
   "source": [
    "def word_capitalize_all (words_to_capitalize):\n",
    "    words = words_to_capitalize.split() #creer a fonction wold splitter? useg again later\n",
    "    cap = []\n",
    "    for word in words:\n",
    "        cap.append(word.capitalize())\n",
    "    words_to_capitalize = \" \".join(cap)\n",
    "    return words_to_capitalize"
   ]
  },
  {
   "cell_type": "markdown",
   "metadata": {},
   "source": [
    "**User interface :**"
   ]
  },
  {
   "cell_type": "code",
   "execution_count": null,
   "metadata": {},
   "outputs": [],
   "source": [
    "main_cat = main_category()"
   ]
  },
  {
   "cell_type": "code",
   "execution_count": null,
   "metadata": {},
   "outputs": [],
   "source": [
    "soup_cat, id_cat = soup(main_cat)[0], soup(main_cat)[1]"
   ]
  },
  {
   "cell_type": "code",
   "execution_count": null,
   "metadata": {},
   "outputs": [],
   "source": [
    "board_game_reduced = board_game_category(soup_cat,id_cat)"
   ]
  },
  {
   "cell_type": "code",
   "execution_count": null,
   "metadata": {},
   "outputs": [],
   "source": [
    "game_to_select = game_selector(board_game_reduced)"
   ]
  },
  {
   "cell_type": "code",
   "execution_count": null,
   "metadata": {},
   "outputs": [],
   "source": [
    "game_to_select"
   ]
  },
  {
   "cell_type": "markdown",
   "metadata": {},
   "source": [
    "***Video Games***"
   ]
  },
  {
   "cell_type": "code",
   "execution_count": null,
   "metadata": {},
   "outputs": [],
   "source": [
    "df_videogames = pd.read_csv('VideogameDF_Cleaned.csv')"
   ]
  },
  {
   "cell_type": "code",
   "execution_count": null,
   "metadata": {},
   "outputs": [],
   "source": [
    "df_videogames.drop(\"Unnamed: 0\", axis=1, inplace=True)"
   ]
  },
  {
   "cell_type": "code",
   "execution_count": null,
   "metadata": {},
   "outputs": [],
   "source": [
    "df_videogames.head(5)"
   ]
  },
  {
   "cell_type": "code",
   "execution_count": null,
   "metadata": {},
   "outputs": [],
   "source": [
    "def video_game_selector():\n",
    "    \n",
    "    game_mode = input(\"Choose a game mode: (Singeplayer, Multiplayer, Co-operative)\")\n",
    "    genre = input(\"Enter genre: (Adventure, Shooter, Role-playing (RPG), Platform, Simulator, Puzzle, Indie, Pinball, Sport, Racing)\")\n",
    "    platform = input(\"On what plaform do you want to play? (PC (Microsoft Windows), Android, iOS, PlayStation 5, Xbox One)\")\n",
    "    player_perspective = input(\"What player perspective should the game have? (Side view, Isometric, Third person, First person, Virtual Reality)\")\n",
    "\n",
    "    filtered_df = df_videogames[\n",
    "    (df_videogames['game_modes'].apply(lambda x: game_mode in x)) &\n",
    "    (df_videogames['genres'].apply(lambda x: genre in x)) &\n",
    "    (df_videogames['platforms'].apply(lambda x: platform in x)) &\n",
    "    (df_videogames['player_perspectives'].apply(lambda x: player_perspective in x))\n",
    "    ]\n",
    "\n",
    "    if filtered_df.empty:\n",
    "        print(\"The perfect game doesn't exist, pick other criteria!\")\n",
    "    else:\n",
    "        recommended_games_indices = random.sample(range(len(filtered_df)), min(5, len(filtered_df)))\n",
    "        recommended_games_df = filtered_df.iloc[recommended_games_indices]\n",
    "        print(\"\\nThe gameseeker tells you to play one of the following games:\")\n",
    "        return recommended_games_df"
   ]
  },
  {
   "cell_type": "markdown",
   "metadata": {},
   "source": [
    "Test this one with: Multiplayer, Shooter, PlayStation 5, First person"
   ]
  },
  {
   "cell_type": "code",
   "execution_count": null,
   "metadata": {},
   "outputs": [],
   "source": [
    "video_game_selector()"
   ]
  }
 ],
 "metadata": {
  "kernelspec": {
   "display_name": "base",
   "language": "python",
   "name": "python3"
  },
  "language_info": {
   "codemirror_mode": {
    "name": "ipython",
    "version": 3
   },
   "file_extension": ".py",
   "mimetype": "text/x-python",
   "name": "python",
   "nbconvert_exporter": "python",
   "pygments_lexer": "ipython3",
   "version": "3.11.5"
  },
  "orig_nbformat": 4
 },
 "nbformat": 4,
 "nbformat_minor": 2
}
